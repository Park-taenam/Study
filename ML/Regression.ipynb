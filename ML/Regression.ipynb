{
 "cells": [
  {
   "cell_type": "code",
   "execution_count": null,
   "metadata": {},
   "outputs": [],
   "source": []
  }
 ],
 "metadata": {
  "kernelspec": {
   "display_name": "Python 3.10.4 ('dmqa_study')",
   "language": "python",
   "name": "python3"
  },
  "language_info": {
   "name": "python",
   "version": "3.10.4"
  },
  "orig_nbformat": 4,
  "vscode": {
   "interpreter": {
    "hash": "a9da5d5e6f99b6e7e563c1930b15c7458300e6c9dea292ecaf98b7bfcc6ca80f"
   }
  }
 },
 "nbformat": 4,
 "nbformat_minor": 2
}
